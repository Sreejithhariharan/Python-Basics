{
  "nbformat": 4,
  "nbformat_minor": 0,
  "metadata": {
    "colab": {
      "provenance": [],
      "authorship_tag": "ABX9TyMExUpStEO/dwJE/j0+QXeY",
      "include_colab_link": true
    },
    "kernelspec": {
      "name": "python3",
      "display_name": "Python 3"
    },
    "language_info": {
      "name": "python"
    }
  },
  "cells": [
    {
      "cell_type": "markdown",
      "metadata": {
        "id": "view-in-github",
        "colab_type": "text"
      },
      "source": [
        "<a href=\"https://colab.research.google.com/github/Sreejithhariharan/Python-Basics/blob/main/List2.ipynb\" target=\"_parent\"><img src=\"https://colab.research.google.com/assets/colab-badge.svg\" alt=\"Open In Colab\"/></a>"
      ]
    },
    {
      "cell_type": "code",
      "execution_count": 2,
      "metadata": {
        "id": "ap9in7DLDuxO"
      },
      "outputs": [],
      "source": [
        "x=[\"Sreejith Hariharan\",36,18,\"09/11/2004\",\"Aloor\"]"
      ]
    },
    {
      "cell_type": "code",
      "source": [
        "print(x)"
      ],
      "metadata": {
        "colab": {
          "base_uri": "https://localhost:8080/"
        },
        "id": "-a4g_1fJFuMY",
        "outputId": "224be650-bddd-4d4e-a89e-895f0d70ba78"
      },
      "execution_count": 4,
      "outputs": [
        {
          "output_type": "stream",
          "name": "stdout",
          "text": [
            "['Sreejith Hariharan', 36, 18, '09/11/2004', 'Aloor']\n"
          ]
        }
      ]
    },
    {
      "cell_type": "code",
      "source": [
        "x[0]"
      ],
      "metadata": {
        "colab": {
          "base_uri": "https://localhost:8080/",
          "height": 35
        },
        "id": "ml-RAa45Gti5",
        "outputId": "715c7040-1ff0-48dc-d1b3-7b2a46b44047"
      },
      "execution_count": 5,
      "outputs": [
        {
          "output_type": "execute_result",
          "data": {
            "text/plain": [
              "'Sreejith Hariharan'"
            ],
            "application/vnd.google.colaboratory.intrinsic+json": {
              "type": "string"
            }
          },
          "metadata": {},
          "execution_count": 5
        }
      ]
    },
    {
      "cell_type": "code",
      "source": [
        "x[3]"
      ],
      "metadata": {
        "colab": {
          "base_uri": "https://localhost:8080/",
          "height": 35
        },
        "id": "ueOR2yE_H5XB",
        "outputId": "6661c1db-3fa4-41bb-9054-2363bfda3ab7"
      },
      "execution_count": 6,
      "outputs": [
        {
          "output_type": "execute_result",
          "data": {
            "text/plain": [
              "'09/11/2004'"
            ],
            "application/vnd.google.colaboratory.intrinsic+json": {
              "type": "string"
            }
          },
          "metadata": {},
          "execution_count": 6
        }
      ]
    },
    {
      "cell_type": "code",
      "source": [
        "x.append(\"Thrissur\")"
      ],
      "metadata": {
        "id": "BYN4COzSH7c6"
      },
      "execution_count": 7,
      "outputs": []
    },
    {
      "cell_type": "code",
      "source": [
        "print(x)"
      ],
      "metadata": {
        "colab": {
          "base_uri": "https://localhost:8080/"
        },
        "id": "m530FogZIwiR",
        "outputId": "5a53b938-6099-4387-a22b-1bc29f4d0d5e"
      },
      "execution_count": 22,
      "outputs": [
        {
          "output_type": "stream",
          "name": "stdout",
          "text": [
            "['Kerala', 'Kerala', 'Kerala', 'Sreejith Hariharan', 'Kerala', 'Kerala', 36, 18, '09/11/2004', 'Aloor', 'Thrissur']\n"
          ]
        }
      ]
    },
    {
      "cell_type": "code",
      "source": [
        "x.insert(1,\"kerala\")"
      ],
      "metadata": {
        "id": "nkZcrdtDKh_h"
      },
      "execution_count": 23,
      "outputs": []
    },
    {
      "cell_type": "code",
      "source": [
        "print(x)"
      ],
      "metadata": {
        "colab": {
          "base_uri": "https://localhost:8080/"
        },
        "id": "ghBydvqRKnbZ",
        "outputId": "7a1df626-206f-4876-cdba-c69df1861905"
      },
      "execution_count": 24,
      "outputs": [
        {
          "output_type": "stream",
          "name": "stdout",
          "text": [
            "['Kerala', 'kerala', 'Kerala', 'Kerala', 'Sreejith Hariharan', 'Kerala', 'Kerala', 36, 18, '09/11/2004', 'Aloor', 'Thrissur']\n"
          ]
        }
      ]
    },
    {
      "cell_type": "code",
      "source": [
        "Marks=int(input(\"Enter your mark\"))"
      ],
      "metadata": {
        "colab": {
          "base_uri": "https://localhost:8080/"
        },
        "id": "O4LSBu5ALfdB",
        "outputId": "6c916029-1f70-4b6d-f437-31a1b6c7fc04"
      },
      "execution_count": 28,
      "outputs": [
        {
          "name": "stdout",
          "output_type": "stream",
          "text": [
            "Enter your mark50\n"
          ]
        }
      ]
    },
    {
      "cell_type": "code",
      "source": [
        "x=int(input(\"enter your mark\"))\n",
        "if x>50:\n",
        "  print(\"pass\")\n",
        "else:\n",
        "    print(\"fail\")\n"
      ],
      "metadata": {
        "colab": {
          "base_uri": "https://localhost:8080/"
        },
        "id": "1IPX417ANINZ",
        "outputId": "fa834c44-d82a-4bc6-d147-f5311f45390c"
      },
      "execution_count": 59,
      "outputs": [
        {
          "output_type": "stream",
          "name": "stdout",
          "text": [
            "enter your mark41\n",
            "fail\n"
          ]
        }
      ]
    },
    {
      "cell_type": "code",
      "source": [
        "x=[\"Pranav\",\"Bharath\",\"Mrithul\",\"Yadhu\",\"Anugrah\",\"Tony\"]\n",
        "x.append(\"Joel\")\n",
        "print(x)"
      ],
      "metadata": {
        "colab": {
          "base_uri": "https://localhost:8080/"
        },
        "id": "nmaejINGRXFI",
        "outputId": "380e2c96-8ecf-493f-90e6-89608f013544"
      },
      "execution_count": 74,
      "outputs": [
        {
          "output_type": "stream",
          "name": "stdout",
          "text": [
            "['Pranav', 'Bharath', 'Mrithul', 'Yadhu', 'Anugrah', 'Tony', 'Joel']\n"
          ]
        }
      ]
    },
    {
      "cell_type": "code",
      "source": [
        "y=input(\"Enter your name\")\n",
        "print(x)"
      ],
      "metadata": {
        "colab": {
          "base_uri": "https://localhost:8080/"
        },
        "id": "b5TYt3dTfNz3",
        "outputId": "d2503968-d9ee-4e98-a18e-6e4a66804042"
      },
      "execution_count": 78,
      "outputs": [
        {
          "output_type": "stream",
          "name": "stdout",
          "text": [
            "Enter your namehjbjh\n",
            "['Pranav', 'Bharath', 'Mrithul', 'Yadhu', 'Anugrah', 'Tony', 'Joel']\n"
          ]
        }
      ]
    },
    {
      "cell_type": "code",
      "source": [
        "x.insert(0,\"Athul\")\n",
        "print(\"list:\",x)\n"
      ],
      "metadata": {
        "colab": {
          "base_uri": "https://localhost:8080/"
        },
        "id": "j8wskyUidRv3",
        "outputId": "493fc398-e1c0-4230-fd76-c9a10d099915"
      },
      "execution_count": 73,
      "outputs": [
        {
          "output_type": "stream",
          "name": "stdout",
          "text": [
            "list: ['Athul', 'Pranav', 'Bharath', 'Mrithul', 'Yadhu', 'Anugrah', 'Tony', 'Joel']\n"
          ]
        }
      ]
    },
    {
      "cell_type": "code",
      "source": [],
      "metadata": {
        "id": "Ec8grATYewtG"
      },
      "execution_count": null,
      "outputs": []
    }
  ]
}